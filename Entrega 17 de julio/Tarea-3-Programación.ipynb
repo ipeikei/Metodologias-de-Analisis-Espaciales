{
 "cells": [
  {
   "cell_type": "code",
   "execution_count": 1,
   "metadata": {},
   "outputs": [],
   "source": [
    "from robobrowser import RoboBrowser\n",
    "import folium\n",
    "import geocoder\n",
    "import pandas"
   ]
  },
  {
   "cell_type": "code",
   "execution_count": 2,
   "metadata": {},
   "outputs": [
    {
     "data": {
      "text/plain": [
       "<RoboBrowser url=http://www.emol.com/noticias/Tendencias/2017/09/28/877098/Estas-son-las-30-ciudades-mas-visitadas-del-mundo-en-2017.html?code=AQDRIfUFAcpwEE-cKyJ5pHwxS9wJ4Pp5VSLRC-pakwuSdZf2WRLGFHc370gK1FOXG8b4y4BChIU1ldaC8URoOdLH6ftA5L59MhWn_7NipCvLNAhE7lWJrRxIFs_3pOohTCP9zIiEOnOsnFhpg30Lt1nMhheQ5zOzp5SCGpMvtWEzh1x2xG5PXq8EERpVhMitvN98yd82WbHzfVinZMkk-YLuA49-n5ERbxf3coCCdO_j45ZQEuce2CLcnOfKgSkFit-oBC_pJ0jJhMb8l86xNxOfQ5KXCRS07GX5RvDwK72DjoO5cWS-W6fcR2IVvqCarfE#_=_>"
      ]
     },
     "execution_count": 2,
     "metadata": {},
     "output_type": "execute_result"
    }
   ],
   "source": [
    "browser=RoboBrowser(parser='html5lib')\n",
    "url= 'http://www.emol.com/noticias/Tendencias/2017/09/28/877098/Estas-son-las-30-ciudades-mas-visitadas-del-mundo-en-2017.html?code=AQDRIfUFAcpwEE-cKyJ5pHwxS9wJ4Pp5VSLRC-pakwuSdZf2WRLGFHc370gK1FOXG8b4y4BChIU1ldaC8URoOdLH6ftA5L59MhWn_7NipCvLNAhE7lWJrRxIFs_3pOohTCP9zIiEOnOsnFhpg30Lt1nMhheQ5zOzp5SCGpMvtWEzh1x2xG5PXq8EERpVhMitvN98yd82WbHzfVinZMkk-YLuA49-n5ERbxf3coCCdO_j45ZQEuce2CLcnOfKgSkFit-oBC_pJ0jJhMb8l86xNxOfQ5KXCRS07GX5RvDwK72DjoO5cWS-W6fcR2IVvqCarfE#_=_'\n",
    "browser.open(url)\n",
    "browser"
   ]
  },
  {
   "cell_type": "code",
   "execution_count": 3,
   "metadata": {},
   "outputs": [
    {
     "data": {
      "text/plain": [
       "<table cellspacing=\"0\" class=\"tablaennoticia rankingmundial\" width=\"100%\"> <thead> <tr> <th> </th> <th>Ciudad (País)</th> <th>Turistas extranjeros</th> </tr></thead><tbody> <tr> <td align=\"right\">1</td> <td>Bangkok (Tailandia)</td> <td align=\"right\">20,2 millones de turistas internacionales</td> </tr> <tr> <td align=\"right\">2</td> <td>Londres (Reino Unido)</td> <td align=\"right\">20 millones de turistas internacionales</td> </tr> <tr> <td align=\"right\">3</td> <td>París (Francia) </td> <td align=\"right\">16,1 millones</td> </tr> <tr> <td align=\"right\">4</td> <td>Dubái (Emiratos Árabes Unidos) </td> <td align=\"right\">16 millones</td> </tr> <tr> <td align=\"right\">5</td> <td>Singapur </td> <td align=\"right\">13,45 millones</td> </tr> <tr> <td align=\"right\">6</td> <td>Tokio (Japón)</td> <td align=\"right\">12,5 millones</td> </tr> <tr> <td align=\"right\">7</td> <td>Seúl (Corea del Sur) </td> <td align=\"right\">12,44 millones</td> </tr> <tr> <td align=\"right\">8</td> <td>Nueva York (EE.UU.) </td> <td align=\"right\">12,4 millones.</td> </tr> <tr> <td align=\"right\">9</td> <td>Kuala Lumpur (Malasia) </td> <td align=\"right\">12,1 millones</td> </tr> <tr> <td align=\"right\">10</td> <td>Hong Kong</td> <td align=\"right\">9,25 millones</td> </tr> <tr> <td align=\"right\">11</td> <td>Estambul (Turquía) </td> <td align=\"right\">9,24 millones</td> </tr> <tr> <td align=\"right\">12</td> <td>Barcelona (España) </td> <td align=\"right\"> 8,9 millones</td> </tr> <tr> <td align=\"right\">13</td> <td>Ámsterdam (Holanda) </td> <td align=\"right\">8,7 millones</td> </tr> <tr> <td align=\"right\">14</td> <td>Milán (Italia) </td> <td align=\"right\">8,4 millones</td> </tr> <tr> <td align=\"right\">15</td> <td>Osaka (Japón) </td> <td align=\"right\">7,9 millones</td> </tr> <tr> <td align=\"right\">16</td> <td>Taipei (Taiwan) </td> <td align=\"right\">7,8 millones</td> </tr> <tr> <td align=\"right\">17</td> <td> Roma (Italia) </td> <td align=\"right\">7,3 millones</td> </tr> <tr> <td align=\"right\">18</td> <td>Shanghai (China) </td> <td align=\"right\">6,65 millones</td> </tr> <tr> <td align=\"right\">19</td> <td>Viena (Austria) </td> <td align=\"right\">6,63 millones</td> </tr> <tr> <td align=\"right\">20</td> <td>Praga (República Checa) </td> <td align=\"right\">6,4 millones</td> </tr> <tr> <td align=\"right\">21</td> <td>Miami (EE.UU.) </td> <td align=\"right\">6 millones</td> </tr> <tr> <td align=\"right\">22</td> <td>Los Angeles (EE.UU.) </td> <td align=\"right\">5,8 millones</td> </tr> <tr> <td align=\"right\">23</td> <td>Chennai (India) </td> <td align=\"right\">5,7 millones</td> </tr> <tr> <td align=\"right\">24</td> <td>Dublín (Irlanda) </td> <td align=\"right\">5,59 millones</td> </tr> <tr> <td align=\"right\">25</td> <td>Madrid (España) </td> <td align=\"right\">5,5 millones</td> </tr> <tr> <td align=\"right\">26</td> <td>Múnich (Alemania) </td> <td align=\"right\">5,4 millones</td> </tr> <tr> <td align=\"right\">27</td> <td>Mumbai (India) </td> <td align=\"right\">5,35 millones</td> </tr> <tr> <td align=\"right\">28</td> <td>Toronto (Canadá) </td> <td align=\"right\">5,3 millones</td> </tr> <tr> <td align=\"right\">29</td> <td>Berlín (Alemania) </td> <td align=\"right\">5,1 millones</td> </tr> <tr> <td align=\"right\">30</td> <td>Johannesburgo (Sudáfrica) </td> <td align=\"right\">4,8 millones</td> </tr> </tbody></table>"
      ]
     },
     "execution_count": 3,
     "metadata": {},
     "output_type": "execute_result"
    }
   ],
   "source": [
    "browser.select('#nota_tabla_emol table')[0]"
   ]
  },
  {
   "cell_type": "code",
   "execution_count": 4,
   "metadata": {},
   "outputs": [
    {
     "data": {
      "text/plain": [
       "'<table cellspacing=\"0\" class=\"tablaennoticia rankingmundial\" width=\"100%\"> <thead> <tr> <th> </th> <th>Ciudad (País)</th> <th>Turistas extranjeros</th> </tr></thead><tbody> <tr> <td align=\"right\">1</td> <td>Bangkok (Tailandia)</td> <td align=\"right\">20,2 millones de turistas internacionales</td> </tr> <tr> <td align=\"right\">2</td> <td>Londres (Reino Unido)</td> <td align=\"right\">20 millones de turistas internacionales</td> </tr> <tr> <td align=\"right\">3</td> <td>París (Francia) </td> <td align=\"right\">16,1 millones</td> </tr> <tr> <td align=\"right\">4</td> <td>Dubái (Emiratos Árabes Unidos) </td> <td align=\"right\">16 millones</td> </tr> <tr> <td align=\"right\">5</td> <td>Singapur </td> <td align=\"right\">13,45 millones</td> </tr> <tr> <td align=\"right\">6</td> <td>Tokio (Japón)</td> <td align=\"right\">12,5 millones</td> </tr> <tr> <td align=\"right\">7</td> <td>Seúl (Corea del Sur) </td> <td align=\"right\">12,44 millones</td> </tr> <tr> <td align=\"right\">8</td> <td>Nueva York (EE.UU.) </td> <t'"
      ]
     },
     "execution_count": 4,
     "metadata": {},
     "output_type": "execute_result"
    }
   ],
   "source": [
    "table=browser.select('#nota_tabla_emol table') [0]\n",
    "t=table.__str__()\n",
    "t[:1000]"
   ]
  },
  {
   "cell_type": "code",
   "execution_count": 5,
   "metadata": {},
   "outputs": [
    {
     "data": {
      "text/plain": [
       "'<table cellspacing=\"0\" class=\"tablaennoticia rankingmundial\" width=\"100%\"> <thead> <tr> <th> </th> <'"
      ]
     },
     "execution_count": 5,
     "metadata": {},
     "output_type": "execute_result"
    }
   ],
   "source": [
    "t=t.replace(',','.')\n",
    "t=t.replace('millones','')\n",
    "t=t.replace('de turistas internacionales','')\n",
    "t[:100]"
   ]
  },
  {
   "cell_type": "code",
   "execution_count": 6,
   "metadata": {},
   "outputs": [
    {
     "data": {
      "text/html": [
       "<div>\n",
       "<style scoped>\n",
       "    .dataframe tbody tr th:only-of-type {\n",
       "        vertical-align: middle;\n",
       "    }\n",
       "\n",
       "    .dataframe tbody tr th {\n",
       "        vertical-align: top;\n",
       "    }\n",
       "\n",
       "    .dataframe thead th {\n",
       "        text-align: right;\n",
       "    }\n",
       "</style>\n",
       "<table border=\"1\" class=\"dataframe\">\n",
       "  <thead>\n",
       "    <tr style=\"text-align: right;\">\n",
       "      <th></th>\n",
       "      <th>Unnamed: 0</th>\n",
       "      <th>Ciudad (País)</th>\n",
       "      <th>Turistas extranjeros</th>\n",
       "    </tr>\n",
       "  </thead>\n",
       "  <tbody>\n",
       "    <tr>\n",
       "      <th>0</th>\n",
       "      <td>1</td>\n",
       "      <td>Bangkok (Tailandia)</td>\n",
       "      <td>20.2</td>\n",
       "    </tr>\n",
       "    <tr>\n",
       "      <th>1</th>\n",
       "      <td>2</td>\n",
       "      <td>Londres (Reino Unido)</td>\n",
       "      <td>20</td>\n",
       "    </tr>\n",
       "    <tr>\n",
       "      <th>2</th>\n",
       "      <td>3</td>\n",
       "      <td>París (Francia)</td>\n",
       "      <td>16.1</td>\n",
       "    </tr>\n",
       "    <tr>\n",
       "      <th>3</th>\n",
       "      <td>4</td>\n",
       "      <td>Dubái (Emiratos Árabes Unidos)</td>\n",
       "      <td>16</td>\n",
       "    </tr>\n",
       "    <tr>\n",
       "      <th>4</th>\n",
       "      <td>5</td>\n",
       "      <td>Singapur</td>\n",
       "      <td>13.45</td>\n",
       "    </tr>\n",
       "  </tbody>\n",
       "</table>\n",
       "</div>"
      ],
      "text/plain": [
       "   Unnamed: 0                   Ciudad (País) Turistas extranjeros\n",
       "0           1             Bangkok (Tailandia)                 20.2\n",
       "1           2           Londres (Reino Unido)                   20\n",
       "2           3                 París (Francia)                 16.1\n",
       "3           4  Dubái (Emiratos Árabes Unidos)                   16\n",
       "4           5                        Singapur                13.45"
      ]
     },
     "execution_count": 6,
     "metadata": {},
     "output_type": "execute_result"
    }
   ],
   "source": [
    "df=pandas.read_html(t, header=0)[0]\n",
    "df.head()"
   ]
  },
  {
   "cell_type": "code",
   "execution_count": 7,
   "metadata": {},
   "outputs": [
    {
     "data": {
      "text/plain": [
       "{'index': [0,\n",
       "  1,\n",
       "  2,\n",
       "  3,\n",
       "  4,\n",
       "  5,\n",
       "  6,\n",
       "  7,\n",
       "  8,\n",
       "  9,\n",
       "  10,\n",
       "  11,\n",
       "  12,\n",
       "  13,\n",
       "  14,\n",
       "  15,\n",
       "  16,\n",
       "  17,\n",
       "  18,\n",
       "  19,\n",
       "  20,\n",
       "  21,\n",
       "  22,\n",
       "  23,\n",
       "  24,\n",
       "  25,\n",
       "  26,\n",
       "  27,\n",
       "  28,\n",
       "  29],\n",
       " 'columns': ['Unnamed: 0', 'Ciudad (País)', 'Turistas extranjeros'],\n",
       " 'data': [[1, 'Bangkok (Tailandia)', '20.2'],\n",
       "  [2, 'Londres (Reino Unido)', '20'],\n",
       "  [3, 'París (Francia)', '16.1'],\n",
       "  [4, 'Dubái (Emiratos Árabes Unidos)', '16'],\n",
       "  [5, 'Singapur', '13.45'],\n",
       "  [6, 'Tokio (Japón)', '12.5'],\n",
       "  [7, 'Seúl (Corea del Sur)', '12.44'],\n",
       "  [8, 'Nueva York (EE.UU.)', '12.4 .'],\n",
       "  [9, 'Kuala Lumpur (Malasia)', '12.1'],\n",
       "  [10, 'Hong Kong', '9.25'],\n",
       "  [11, 'Estambul (Turquía)', '9.24'],\n",
       "  [12, 'Barcelona (España)', '8.9'],\n",
       "  [13, 'Ámsterdam (Holanda)', '8.7'],\n",
       "  [14, 'Milán (Italia)', '8.4'],\n",
       "  [15, 'Osaka (Japón)', '7.9'],\n",
       "  [16, 'Taipei (Taiwan)', '7.8'],\n",
       "  [17, 'Roma (Italia)', '7.3'],\n",
       "  [18, 'Shanghai (China)', '6.65'],\n",
       "  [19, 'Viena (Austria)', '6.63'],\n",
       "  [20, 'Praga (República Checa)', '6.4'],\n",
       "  [21, 'Miami (EE.UU.)', '6'],\n",
       "  [22, 'Los Angeles (EE.UU.)', '5.8'],\n",
       "  [23, 'Chennai (India)', '5.7'],\n",
       "  [24, 'Dublín (Irlanda)', '5.59'],\n",
       "  [25, 'Madrid (España)', '5.5'],\n",
       "  [26, 'Múnich (Alemania)', '5.4'],\n",
       "  [27, 'Mumbai (India)', '5.35'],\n",
       "  [28, 'Toronto (Canadá)', '5.3'],\n",
       "  [29, 'Berlín (Alemania)', '5.1'],\n",
       "  [30, 'Johannesburgo (Sudáfrica)', '4.8']]}"
      ]
     },
     "execution_count": 7,
     "metadata": {},
     "output_type": "execute_result"
    }
   ],
   "source": [
    "d=df.to_dict(orient='split')\n",
    "d"
   ]
  },
  {
   "cell_type": "code",
   "execution_count": 8,
   "metadata": {},
   "outputs": [
    {
     "data": {
      "text/plain": [
       "dict_keys(['index', 'columns', 'data'])"
      ]
     },
     "execution_count": 8,
     "metadata": {},
     "output_type": "execute_result"
    }
   ],
   "source": [
    "d.keys()"
   ]
  },
  {
   "cell_type": "code",
   "execution_count": 9,
   "metadata": {},
   "outputs": [
    {
     "data": {
      "text/plain": [
       "[[1, 'Bangkok (Tailandia)', '20.2'],\n",
       " [2, 'Londres (Reino Unido)', '20'],\n",
       " [3, 'París (Francia)', '16.1'],\n",
       " [4, 'Dubái (Emiratos Árabes Unidos)', '16'],\n",
       " [5, 'Singapur', '13.45'],\n",
       " [6, 'Tokio (Japón)', '12.5'],\n",
       " [7, 'Seúl (Corea del Sur)', '12.44'],\n",
       " [8, 'Nueva York (EE.UU.)', '12.4 .'],\n",
       " [9, 'Kuala Lumpur (Malasia)', '12.1'],\n",
       " [10, 'Hong Kong', '9.25'],\n",
       " [11, 'Estambul (Turquía)', '9.24'],\n",
       " [12, 'Barcelona (España)', '8.9'],\n",
       " [13, 'Ámsterdam (Holanda)', '8.7'],\n",
       " [14, 'Milán (Italia)', '8.4'],\n",
       " [15, 'Osaka (Japón)', '7.9'],\n",
       " [16, 'Taipei (Taiwan)', '7.8'],\n",
       " [17, 'Roma (Italia)', '7.3'],\n",
       " [18, 'Shanghai (China)', '6.65'],\n",
       " [19, 'Viena (Austria)', '6.63'],\n",
       " [20, 'Praga (República Checa)', '6.4'],\n",
       " [21, 'Miami (EE.UU.)', '6'],\n",
       " [22, 'Los Angeles (EE.UU.)', '5.8'],\n",
       " [23, 'Chennai (India)', '5.7'],\n",
       " [24, 'Dublín (Irlanda)', '5.59'],\n",
       " [25, 'Madrid (España)', '5.5'],\n",
       " [26, 'Múnich (Alemania)', '5.4'],\n",
       " [27, 'Mumbai (India)', '5.35'],\n",
       " [28, 'Toronto (Canadá)', '5.3'],\n",
       " [29, 'Berlín (Alemania)', '5.1'],\n",
       " [30, 'Johannesburgo (Sudáfrica)', '4.8']]"
      ]
     },
     "execution_count": 9,
     "metadata": {},
     "output_type": "execute_result"
    }
   ],
   "source": [
    "d['data']"
   ]
  },
  {
   "cell_type": "code",
   "execution_count": 10,
   "metadata": {},
   "outputs": [
    {
     "name": "stdout",
     "output_type": "stream",
     "text": [
      "<[OVER_QUERY_LIMIT] Google - Geocode [empty]>\n"
     ]
    }
   ],
   "source": [
    "data=d['data']\n",
    "gc=geocoder.google('2, Londres (Reino Unido), 20')\n",
    "print (gc)"
   ]
  },
  {
   "cell_type": "code",
   "execution_count": 11,
   "metadata": {},
   "outputs": [],
   "source": [
    "gc.latlng"
   ]
  },
  {
   "cell_type": "code",
   "execution_count": 12,
   "metadata": {},
   "outputs": [
    {
     "name": "stdout",
     "output_type": "stream",
     "text": [
      "Bangkok (Tailandia)\n",
      "[13.7563309, 100.5017651]\n",
      "Londres (Reino Unido)\n",
      "[51.5073509, -0.1277583]\n",
      "París (Francia)\n",
      "None\n",
      "Dubái (Emiratos Árabes Unidos)\n",
      "[24.9821547, 55.402868]\n",
      "Singapur\n",
      "[1.352083, 103.819836]\n",
      "Tokio (Japón)\n",
      "[35.6894875, 139.6917064]\n",
      "Seúl (Corea del Sur)\n",
      "[37.566535, 126.9779692]\n",
      "Nueva York (EE.UU.)\n",
      "[40.7127753, -74.0059728]\n",
      "Kuala Lumpur (Malasia)\n",
      "[3.139003, 101.686855]\n",
      "Hong Kong\n",
      "[22.396428, 114.109497]\n",
      "Estambul (Turquía)\n",
      "None\n",
      "Barcelona (España)\n",
      "None\n",
      "Ámsterdam (Holanda)\n",
      "[52.3702157, 4.895167900000001]\n",
      "Milán (Italia)\n",
      "[45.4642035, 9.189982]\n",
      "Osaka (Japón)\n",
      "[34.6937378, 135.5021651]\n",
      "Taipei (Taiwan)\n",
      "None\n",
      "Roma (Italia)\n",
      "None\n",
      "Shanghai (China)\n",
      "[31.2303904, 121.4737021]\n",
      "Viena (Austria)\n",
      "[48.2081743, 16.3738189]\n",
      "Praga (República Checa)\n",
      "[50.0755381, 14.4378005]\n",
      "Miami (EE.UU.)\n",
      "None\n",
      "Los Angeles (EE.UU.)\n",
      "[34.0522342, -118.2436849]\n",
      "Chennai (India)\n",
      "[13.0826802, 80.2707184]\n",
      "Dublín (Irlanda)\n",
      "[53.3498053, -6.2603097]\n",
      "Madrid (España)\n",
      "None\n",
      "Múnich (Alemania)\n",
      "[48.1351253, 11.5819805]\n",
      "Mumbai (India)\n",
      "[19.0759837, 72.8776559]\n",
      "Toronto (Canadá)\n",
      "[43.653226, -79.3831843]\n",
      "Berlín (Alemania)\n",
      "[52.52000659999999, 13.404954]\n",
      "Johannesburgo (Sudáfrica)\n",
      "[-26.2041028, 28.0473051]\n"
     ]
    }
   ],
   "source": [
    "l=[]\n",
    "for indice, ciudad, cantidad in data:\n",
    "    lugar=  ciudad\n",
    "    print (lugar)\n",
    "    latlng= geocoder.google(ciudad).latlng\n",
    "    print(latlng)\n",
    "    try:\n",
    "        dato= [ciudad, float(cantidad), latlng]\n",
    "        if latlng != None:\n",
    "            l.append(dato)\n",
    "    except:\n",
    "        pass"
   ]
  },
  {
   "cell_type": "code",
   "execution_count": 13,
   "metadata": {},
   "outputs": [
    {
     "data": {
      "text/plain": [
       "[['Bangkok (Tailandia)', 20.2, [13.7563309, 100.5017651]],\n",
       " ['Londres (Reino Unido)', 20.0, [51.5073509, -0.1277583]],\n",
       " ['Dubái (Emiratos Árabes Unidos)', 16.0, [24.9821547, 55.402868]],\n",
       " ['Singapur', 13.45, [1.352083, 103.819836]],\n",
       " ['Tokio (Japón)', 12.5, [35.6894875, 139.6917064]],\n",
       " ['Seúl (Corea del Sur)', 12.44, [37.566535, 126.9779692]],\n",
       " ['Kuala Lumpur (Malasia)', 12.1, [3.139003, 101.686855]],\n",
       " ['Hong Kong', 9.25, [22.396428, 114.109497]],\n",
       " ['Ámsterdam (Holanda)', 8.7, [52.3702157, 4.895167900000001]],\n",
       " ['Milán (Italia)', 8.4, [45.4642035, 9.189982]],\n",
       " ['Osaka (Japón)', 7.9, [34.6937378, 135.5021651]],\n",
       " ['Shanghai (China)', 6.65, [31.2303904, 121.4737021]],\n",
       " ['Viena (Austria)', 6.63, [48.2081743, 16.3738189]],\n",
       " ['Praga (República Checa)', 6.4, [50.0755381, 14.4378005]],\n",
       " ['Los Angeles (EE.UU.)', 5.8, [34.0522342, -118.2436849]],\n",
       " ['Chennai (India)', 5.7, [13.0826802, 80.2707184]],\n",
       " ['Dublín (Irlanda)', 5.59, [53.3498053, -6.2603097]],\n",
       " ['Múnich (Alemania)', 5.4, [48.1351253, 11.5819805]],\n",
       " ['Mumbai (India)', 5.35, [19.0759837, 72.8776559]],\n",
       " ['Toronto (Canadá)', 5.3, [43.653226, -79.3831843]],\n",
       " ['Berlín (Alemania)', 5.1, [52.52000659999999, 13.404954]],\n",
       " ['Johannesburgo (Sudáfrica)', 4.8, [-26.2041028, 28.0473051]]]"
      ]
     },
     "execution_count": 13,
     "metadata": {},
     "output_type": "execute_result"
    }
   ],
   "source": [
    "l"
   ]
  },
  {
   "cell_type": "code",
   "execution_count": 14,
   "metadata": {},
   "outputs": [
    {
     "data": {
      "text/html": [
       "<div style=\"width:100%;\"><div style=\"position:relative;width:100%;height:0;padding-bottom:60%;\"><iframe src=\"data:text/html;charset=utf-8;base64,PCFET0NUWVBFIGh0bWw+CjxoZWFkPiAgICAKICAgIDxtZXRhIGh0dHAtZXF1aXY9ImNvbnRlbnQtdHlwZSIgY29udGVudD0idGV4dC9odG1sOyBjaGFyc2V0PVVURi04IiAvPgogICAgPHNjcmlwdD5MX1BSRUZFUl9DQU5WQVMgPSBmYWxzZTsgTF9OT19UT1VDSCA9IGZhbHNlOyBMX0RJU0FCTEVfM0QgPSBmYWxzZTs8L3NjcmlwdD4KICAgIDxzY3JpcHQgc3JjPSJodHRwczovL2Nkbi5qc2RlbGl2ci5uZXQvbnBtL2xlYWZsZXRAMS4yLjAvZGlzdC9sZWFmbGV0LmpzIj48L3NjcmlwdD4KICAgIDxzY3JpcHQgc3JjPSJodHRwczovL2FqYXguZ29vZ2xlYXBpcy5jb20vYWpheC9saWJzL2pxdWVyeS8xLjExLjEvanF1ZXJ5Lm1pbi5qcyI+PC9zY3JpcHQ+CiAgICA8c2NyaXB0IHNyYz0iaHR0cHM6Ly9tYXhjZG4uYm9vdHN0cmFwY2RuLmNvbS9ib290c3RyYXAvMy4yLjAvanMvYm9vdHN0cmFwLm1pbi5qcyI+PC9zY3JpcHQ+CiAgICA8c2NyaXB0IHNyYz0iaHR0cHM6Ly9jZG5qcy5jbG91ZGZsYXJlLmNvbS9hamF4L2xpYnMvTGVhZmxldC5hd2Vzb21lLW1hcmtlcnMvMi4wLjIvbGVhZmxldC5hd2Vzb21lLW1hcmtlcnMuanMiPjwvc2NyaXB0PgogICAgPGxpbmsgcmVsPSJzdHlsZXNoZWV0IiBocmVmPSJodHRwczovL2Nkbi5qc2RlbGl2ci5uZXQvbnBtL2xlYWZsZXRAMS4yLjAvZGlzdC9sZWFmbGV0LmNzcyIvPgogICAgPGxpbmsgcmVsPSJzdHlsZXNoZWV0IiBocmVmPSJodHRwczovL21heGNkbi5ib290c3RyYXBjZG4uY29tL2Jvb3RzdHJhcC8zLjIuMC9jc3MvYm9vdHN0cmFwLm1pbi5jc3MiLz4KICAgIDxsaW5rIHJlbD0ic3R5bGVzaGVldCIgaHJlZj0iaHR0cHM6Ly9tYXhjZG4uYm9vdHN0cmFwY2RuLmNvbS9ib290c3RyYXAvMy4yLjAvY3NzL2Jvb3RzdHJhcC10aGVtZS5taW4uY3NzIi8+CiAgICA8bGluayByZWw9InN0eWxlc2hlZXQiIGhyZWY9Imh0dHBzOi8vbWF4Y2RuLmJvb3RzdHJhcGNkbi5jb20vZm9udC1hd2Vzb21lLzQuNi4zL2Nzcy9mb250LWF3ZXNvbWUubWluLmNzcyIvPgogICAgPGxpbmsgcmVsPSJzdHlsZXNoZWV0IiBocmVmPSJodHRwczovL2NkbmpzLmNsb3VkZmxhcmUuY29tL2FqYXgvbGlicy9MZWFmbGV0LmF3ZXNvbWUtbWFya2Vycy8yLjAuMi9sZWFmbGV0LmF3ZXNvbWUtbWFya2Vycy5jc3MiLz4KICAgIDxsaW5rIHJlbD0ic3R5bGVzaGVldCIgaHJlZj0iaHR0cHM6Ly9yYXdnaXQuY29tL3B5dGhvbi12aXN1YWxpemF0aW9uL2ZvbGl1bS9tYXN0ZXIvZm9saXVtL3RlbXBsYXRlcy9sZWFmbGV0LmF3ZXNvbWUucm90YXRlLmNzcyIvPgogICAgPHN0eWxlPmh0bWwsIGJvZHkge3dpZHRoOiAxMDAlO2hlaWdodDogMTAwJTttYXJnaW46IDA7cGFkZGluZzogMDt9PC9zdHlsZT4KICAgIDxzdHlsZT4jbWFwIHtwb3NpdGlvbjphYnNvbHV0ZTt0b3A6MDtib3R0b206MDtyaWdodDowO2xlZnQ6MDt9PC9zdHlsZT4KICAgIAogICAgICAgICAgICA8c3R5bGU+ICNtYXBfYzgxNjhlMmM2YmVlNGU0MWE1NTgyNTEyZWM4MGU3NDggewogICAgICAgICAgICAgICAgcG9zaXRpb24gOiByZWxhdGl2ZTsKICAgICAgICAgICAgICAgIHdpZHRoIDogMTAwLjAlOwogICAgICAgICAgICAgICAgaGVpZ2h0OiAxMDAuMCU7CiAgICAgICAgICAgICAgICBsZWZ0OiAwLjAlOwogICAgICAgICAgICAgICAgdG9wOiAwLjAlOwogICAgICAgICAgICAgICAgfQogICAgICAgICAgICA8L3N0eWxlPgogICAgICAgIAo8L2hlYWQ+Cjxib2R5PiAgICAKICAgIAogICAgICAgICAgICA8ZGl2IGNsYXNzPSJmb2xpdW0tbWFwIiBpZD0ibWFwX2M4MTY4ZTJjNmJlZTRlNDFhNTU4MjUxMmVjODBlNzQ4IiA+PC9kaXY+CiAgICAgICAgCjwvYm9keT4KPHNjcmlwdD4gICAgCiAgICAKCiAgICAgICAgICAgIAogICAgICAgICAgICAgICAgdmFyIGJvdW5kcyA9IG51bGw7CiAgICAgICAgICAgIAoKICAgICAgICAgICAgdmFyIG1hcF9jODE2OGUyYzZiZWU0ZTQxYTU1ODI1MTJlYzgwZTc0OCA9IEwubWFwKAogICAgICAgICAgICAgICAgICAgICAgICAgICAgICAgICAgJ21hcF9jODE2OGUyYzZiZWU0ZTQxYTU1ODI1MTJlYzgwZTc0OCcsCiAgICAgICAgICAgICAgICAgICAgICAgICAgICAgICAgICB7Y2VudGVyOiBbMTMuNzU2MzMwOSwxMDAuNTAxNzY1MV0sCiAgICAgICAgICAgICAgICAgICAgICAgICAgICAgICAgICB6b29tOiAxMCwKICAgICAgICAgICAgICAgICAgICAgICAgICAgICAgICAgIG1heEJvdW5kczogYm91bmRzLAogICAgICAgICAgICAgICAgICAgICAgICAgICAgICAgICAgbGF5ZXJzOiBbXSwKICAgICAgICAgICAgICAgICAgICAgICAgICAgICAgICAgIHdvcmxkQ29weUp1bXA6IGZhbHNlLAogICAgICAgICAgICAgICAgICAgICAgICAgICAgICAgICAgY3JzOiBMLkNSUy5FUFNHMzg1NwogICAgICAgICAgICAgICAgICAgICAgICAgICAgICAgICB9KTsKICAgICAgICAgICAgCiAgICAgICAgCiAgICAKICAgICAgICAgICAgdmFyIHRpbGVfbGF5ZXJfZDk4YzQ5ODIxYjEyNGY1NTg5NDJlMjhlMzczZDM4MWEgPSBMLnRpbGVMYXllcigKICAgICAgICAgICAgICAgICdodHRwczovL3tzfS50aWxlLm9wZW5zdHJlZXRtYXAub3JnL3t6fS97eH0ve3l9LnBuZycsCiAgICAgICAgICAgICAgICB7CiAgImF0dHJpYnV0aW9uIjogbnVsbCwKICAiZGV0ZWN0UmV0aW5hIjogZmFsc2UsCiAgIm1heFpvb20iOiAxOCwKICAibWluWm9vbSI6IDEsCiAgIm5vV3JhcCI6IGZhbHNlLAogICJzdWJkb21haW5zIjogImFiYyIKfQogICAgICAgICAgICAgICAgKS5hZGRUbyhtYXBfYzgxNjhlMmM2YmVlNGU0MWE1NTgyNTEyZWM4MGU3NDgpOwogICAgICAgIAo8L3NjcmlwdD4=\" style=\"position:absolute;width:100%;height:100%;left:0;top:0;border:none !important;\" allowfullscreen webkitallowfullscreen mozallowfullscreen></iframe></div></div>"
      ],
      "text/plain": [
       "<folium.folium.Map at 0x2417f097518>"
      ]
     },
     "execution_count": 14,
     "metadata": {},
     "output_type": "execute_result"
    }
   ],
   "source": [
    "import folium\n",
    "m=folium.Map(location=[13.7563309, 100.5017651])\n",
    "m"
   ]
  },
  {
   "cell_type": "code",
   "execution_count": 18,
   "metadata": {},
   "outputs": [
    {
     "data": {
      "text/html": [
       "<div style=\"width:100%;\"><div style=\"position:relative;width:100%;height:0;padding-bottom:60%;\"><iframe src=\"data:text/html;charset=utf-8;base64,PCFET0NUWVBFIGh0bWw+CjxoZWFkPiAgICAKICAgIDxtZXRhIGh0dHAtZXF1aXY9ImNvbnRlbnQtdHlwZSIgY29udGVudD0idGV4dC9odG1sOyBjaGFyc2V0PVVURi04IiAvPgogICAgPHNjcmlwdD5MX1BSRUZFUl9DQU5WQVMgPSBmYWxzZTsgTF9OT19UT1VDSCA9IGZhbHNlOyBMX0RJU0FCTEVfM0QgPSBmYWxzZTs8L3NjcmlwdD4KICAgIDxzY3JpcHQgc3JjPSJodHRwczovL2Nkbi5qc2RlbGl2ci5uZXQvbnBtL2xlYWZsZXRAMS4yLjAvZGlzdC9sZWFmbGV0LmpzIj48L3NjcmlwdD4KICAgIDxzY3JpcHQgc3JjPSJodHRwczovL2FqYXguZ29vZ2xlYXBpcy5jb20vYWpheC9saWJzL2pxdWVyeS8xLjExLjEvanF1ZXJ5Lm1pbi5qcyI+PC9zY3JpcHQ+CiAgICA8c2NyaXB0IHNyYz0iaHR0cHM6Ly9tYXhjZG4uYm9vdHN0cmFwY2RuLmNvbS9ib290c3RyYXAvMy4yLjAvanMvYm9vdHN0cmFwLm1pbi5qcyI+PC9zY3JpcHQ+CiAgICA8c2NyaXB0IHNyYz0iaHR0cHM6Ly9jZG5qcy5jbG91ZGZsYXJlLmNvbS9hamF4L2xpYnMvTGVhZmxldC5hd2Vzb21lLW1hcmtlcnMvMi4wLjIvbGVhZmxldC5hd2Vzb21lLW1hcmtlcnMuanMiPjwvc2NyaXB0PgogICAgPGxpbmsgcmVsPSJzdHlsZXNoZWV0IiBocmVmPSJodHRwczovL2Nkbi5qc2RlbGl2ci5uZXQvbnBtL2xlYWZsZXRAMS4yLjAvZGlzdC9sZWFmbGV0LmNzcyIvPgogICAgPGxpbmsgcmVsPSJzdHlsZXNoZWV0IiBocmVmPSJodHRwczovL21heGNkbi5ib290c3RyYXBjZG4uY29tL2Jvb3RzdHJhcC8zLjIuMC9jc3MvYm9vdHN0cmFwLm1pbi5jc3MiLz4KICAgIDxsaW5rIHJlbD0ic3R5bGVzaGVldCIgaHJlZj0iaHR0cHM6Ly9tYXhjZG4uYm9vdHN0cmFwY2RuLmNvbS9ib290c3RyYXAvMy4yLjAvY3NzL2Jvb3RzdHJhcC10aGVtZS5taW4uY3NzIi8+CiAgICA8bGluayByZWw9InN0eWxlc2hlZXQiIGhyZWY9Imh0dHBzOi8vbWF4Y2RuLmJvb3RzdHJhcGNkbi5jb20vZm9udC1hd2Vzb21lLzQuNi4zL2Nzcy9mb250LWF3ZXNvbWUubWluLmNzcyIvPgogICAgPGxpbmsgcmVsPSJzdHlsZXNoZWV0IiBocmVmPSJodHRwczovL2NkbmpzLmNsb3VkZmxhcmUuY29tL2FqYXgvbGlicy9MZWFmbGV0LmF3ZXNvbWUtbWFya2Vycy8yLjAuMi9sZWFmbGV0LmF3ZXNvbWUtbWFya2Vycy5jc3MiLz4KICAgIDxsaW5rIHJlbD0ic3R5bGVzaGVldCIgaHJlZj0iaHR0cHM6Ly9yYXdnaXQuY29tL3B5dGhvbi12aXN1YWxpemF0aW9uL2ZvbGl1bS9tYXN0ZXIvZm9saXVtL3RlbXBsYXRlcy9sZWFmbGV0LmF3ZXNvbWUucm90YXRlLmNzcyIvPgogICAgPHN0eWxlPmh0bWwsIGJvZHkge3dpZHRoOiAxMDAlO2hlaWdodDogMTAwJTttYXJnaW46IDA7cGFkZGluZzogMDt9PC9zdHlsZT4KICAgIDxzdHlsZT4jbWFwIHtwb3NpdGlvbjphYnNvbHV0ZTt0b3A6MDtib3R0b206MDtyaWdodDowO2xlZnQ6MDt9PC9zdHlsZT4KICAgIAogICAgICAgICAgICA8c3R5bGU+ICNtYXBfNTc0ODI3NDM2MDEzNDg0M2I5YTI3YmJiZDhhMWUwNGEgewogICAgICAgICAgICAgICAgcG9zaXRpb24gOiByZWxhdGl2ZTsKICAgICAgICAgICAgICAgIHdpZHRoIDogMTAwLjAlOwogICAgICAgICAgICAgICAgaGVpZ2h0OiAxMDAuMCU7CiAgICAgICAgICAgICAgICBsZWZ0OiAwLjAlOwogICAgICAgICAgICAgICAgdG9wOiAwLjAlOwogICAgICAgICAgICAgICAgfQogICAgICAgICAgICA8L3N0eWxlPgogICAgICAgIAo8L2hlYWQ+Cjxib2R5PiAgICAKICAgIAogICAgICAgICAgICA8ZGl2IGNsYXNzPSJmb2xpdW0tbWFwIiBpZD0ibWFwXzU3NDgyNzQzNjAxMzQ4NDNiOWEyN2JiYmQ4YTFlMDRhIiA+PC9kaXY+CiAgICAgICAgCjwvYm9keT4KPHNjcmlwdD4gICAgCiAgICAKCiAgICAgICAgICAgIAogICAgICAgICAgICAgICAgdmFyIGJvdW5kcyA9IG51bGw7CiAgICAgICAgICAgIAoKICAgICAgICAgICAgdmFyIG1hcF81NzQ4Mjc0MzYwMTM0ODQzYjlhMjdiYmJkOGExZTA0YSA9IEwubWFwKAogICAgICAgICAgICAgICAgICAgICAgICAgICAgICAgICAgJ21hcF81NzQ4Mjc0MzYwMTM0ODQzYjlhMjdiYmJkOGExZTA0YScsCiAgICAgICAgICAgICAgICAgICAgICAgICAgICAgICAgICB7Y2VudGVyOiBbMTMuNzU2MzMwOSwxMDAuNTAxNzY1MV0sCiAgICAgICAgICAgICAgICAgICAgICAgICAgICAgICAgICB6b29tOiAxNCwKICAgICAgICAgICAgICAgICAgICAgICAgICAgICAgICAgIG1heEJvdW5kczogYm91bmRzLAogICAgICAgICAgICAgICAgICAgICAgICAgICAgICAgICAgbGF5ZXJzOiBbXSwKICAgICAgICAgICAgICAgICAgICAgICAgICAgICAgICAgIHdvcmxkQ29weUp1bXA6IGZhbHNlLAogICAgICAgICAgICAgICAgICAgICAgICAgICAgICAgICAgY3JzOiBMLkNSUy5FUFNHMzg1NwogICAgICAgICAgICAgICAgICAgICAgICAgICAgICAgICB9KTsKICAgICAgICAgICAgCiAgICAgICAgCiAgICAKICAgICAgICAgICAgdmFyIHRpbGVfbGF5ZXJfNjMyZWM2Y2YwYWNhNDgxMDg0OWRkODE5MTMxMmFjZDEgPSBMLnRpbGVMYXllcigKICAgICAgICAgICAgICAgICdodHRwczovL3N0YW1lbi10aWxlcy17c30uYS5zc2wuZmFzdGx5Lm5ldC90b25lci97en0ve3h9L3t5fS5wbmcnLAogICAgICAgICAgICAgICAgewogICJhdHRyaWJ1dGlvbiI6IG51bGwsCiAgImRldGVjdFJldGluYSI6IGZhbHNlLAogICJtYXhab29tIjogMTgsCiAgIm1pblpvb20iOiAxLAogICJub1dyYXAiOiBmYWxzZSwKICAic3ViZG9tYWlucyI6ICJhYmMiCn0KICAgICAgICAgICAgICAgICkuYWRkVG8obWFwXzU3NDgyNzQzNjAxMzQ4NDNiOWEyN2JiYmQ4YTFlMDRhKTsKICAgICAgICAKICAgIAoKICAgICAgICAgICAgdmFyIG1hcmtlcl82ZjQ3NDlhMWE2MzY0NjRjOThiMDVmNDU0MTVkMThjNSA9IEwubWFya2VyKAogICAgICAgICAgICAgICAgWzEzLjc1NjMzMDksMTAwLjUwMTc2NTFdLAogICAgICAgICAgICAgICAgewogICAgICAgICAgICAgICAgICAgIGljb246IG5ldyBMLkljb24uRGVmYXVsdCgpCiAgICAgICAgICAgICAgICAgICAgfQogICAgICAgICAgICAgICAgKQogICAgICAgICAgICAgICAgLmFkZFRvKG1hcF81NzQ4Mjc0MzYwMTM0ODQzYjlhMjdiYmJkOGExZTA0YSk7CiAgICAgICAgICAgIAogICAgCiAgICAgICAgICAgIHZhciBwb3B1cF81ZjIxODY0OGVkNGI0MDA5OGQyNmY3ODU2YTQzZWNjZSA9IEwucG9wdXAoe21heFdpZHRoOiAnMzAwJ30pOwoKICAgICAgICAgICAgCiAgICAgICAgICAgICAgICB2YXIgaHRtbF9hMzVmMDVjMDhkY2Y0MDBlODcxOTE0ODRkMzg3MTBkNyA9ICQoJzxkaXYgaWQ9Imh0bWxfYTM1ZjA1YzA4ZGNmNDAwZTg3MTkxNDg0ZDM4NzEwZDciIHN0eWxlPSJ3aWR0aDogMTAwLjAlOyBoZWlnaHQ6IDEwMC4wJTsiPkJhbmdrb2ssIFRhaWxhbmRpYTwvZGl2PicpWzBdOwogICAgICAgICAgICAgICAgcG9wdXBfNWYyMTg2NDhlZDRiNDAwOThkMjZmNzg1NmE0M2VjY2Uuc2V0Q29udGVudChodG1sX2EzNWYwNWMwOGRjZjQwMGU4NzE5MTQ4NGQzODcxMGQ3KTsKICAgICAgICAgICAgCgogICAgICAgICAgICBtYXJrZXJfNmY0NzQ5YTFhNjM2NDY0Yzk4YjA1ZjQ1NDE1ZDE4YzUuYmluZFBvcHVwKHBvcHVwXzVmMjE4NjQ4ZWQ0YjQwMDk4ZDI2Zjc4NTZhNDNlY2NlKTsKCiAgICAgICAgICAgIAogICAgICAgIAo8L3NjcmlwdD4=\" style=\"position:absolute;width:100%;height:100%;left:0;top:0;border:none !important;\" allowfullscreen webkitallowfullscreen mozallowfullscreen></iframe></div></div>"
      ],
      "text/plain": [
       "<folium.folium.Map at 0x2417f185710>"
      ]
     },
     "execution_count": 18,
     "metadata": {},
     "output_type": "execute_result"
    }
   ],
   "source": [
    "m= folium.Map(\n",
    "    location = [13.7563309, 100.5017651],\n",
    "    tiles='Stamen Toner',\n",
    "    zoom_start=14\n",
    ")\n",
    "folium.Marker(\n",
    "    [13.7563309, 100.5017651],\n",
    "    popup='Bangkok, Tailandia').add_to(m)\n",
    "m"
   ]
  },
  {
   "cell_type": "code",
   "execution_count": 19,
   "metadata": {
    "scrolled": true
   },
   "outputs": [
    {
     "data": {
      "text/html": [
       "<div style=\"width:100%;\"><div style=\"position:relative;width:100%;height:0;padding-bottom:60%;\"><iframe src=\"data:text/html;charset=utf-8;base64,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\" style=\"position:absolute;width:100%;height:100%;left:0;top:0;border:none !important;\" allowfullscreen webkitallowfullscreen mozallowfullscreen></iframe></div></div>"
      ],
      "text/plain": [
       "<folium.folium.Map at 0x2417f237128>"
      ]
     },
     "execution_count": 19,
     "metadata": {},
     "output_type": "execute_result"
    }
   ],
   "source": [
    "m=folium.Map(\n",
    "    location=[13.7563309, 100.5017651],\n",
    "    tiles='Mapbox Control Room',\n",
    "    zoom_start=2\n",
    ")\n",
    "\n",
    "for ciudad, turistas, latlng in l:\n",
    "    folium.Marker(latlng, popup=ciudad).add_to(m)\n",
    "m"
   ]
  },
  {
   "cell_type": "code",
   "execution_count": 17,
   "metadata": {
    "scrolled": true
   },
   "outputs": [
    {
     "data": {
      "text/html": [
       "<div style=\"width:100%;\"><div style=\"position:relative;width:100%;height:0;padding-bottom:60%;\"><iframe src=\"data:text/html;charset=utf-8;base64,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\" style=\"position:absolute;width:100%;height:100%;left:0;top:0;border:none !important;\" allowfullscreen webkitallowfullscreen mozallowfullscreen></iframe></div></div>"
      ],
      "text/plain": [
       "<folium.folium.Map at 0x2417f185ba8>"
      ]
     },
     "execution_count": 17,
     "metadata": {},
     "output_type": "execute_result"
    }
   ],
   "source": [
    "t = folium.Map(location=[13.7563309, 100.5017651], tiles=\"Mapbox Control Room\", zoom_start=2)\n",
    "\n",
    "for ciudad, turistas,latlng in l:\n",
    "   folium.Circle(\n",
    "      location= latlng,\n",
    "      popup= ciudad,\n",
    "      radius=turistas*10000,\n",
    "      color='Yellow',\n",
    "      fill=True,\n",
    "      fill_color='Yellow'\n",
    "   ).add_to(t)\n",
    "\n",
    "t"
   ]
  },
  {
   "cell_type": "code",
   "execution_count": 35,
   "metadata": {},
   "outputs": [],
   "source": [
    "import plotly.plotly as py\n",
    "import pandas as pd"
   ]
  },
  {
   "cell_type": "code",
   "execution_count": 34,
   "metadata": {},
   "outputs": [
    {
     "data": {
      "text/plain": [
       "'4.8'"
      ]
     },
     "execution_count": 34,
     "metadata": {},
     "output_type": "execute_result"
    }
   ],
   "source": []
  },
  {
   "cell_type": "code",
   "execution_count": 25,
   "metadata": {},
   "outputs": [],
   "source": [
    "import plotly.plotly as py\n",
    "import plotly.graph_objs as go\n",
    "import numpy as np"
   ]
  },
  {
   "cell_type": "code",
   "execution_count": null,
   "metadata": {},
   "outputs": [],
   "source": [
    "for cantidad:\n",
    "    "
   ]
  }
 ],
 "metadata": {
  "kernelspec": {
   "display_name": "Python 3",
   "language": "python",
   "name": "python3"
  },
  "language_info": {
   "codemirror_mode": {
    "name": "ipython",
    "version": 3
   },
   "file_extension": ".py",
   "mimetype": "text/x-python",
   "name": "python",
   "nbconvert_exporter": "python",
   "pygments_lexer": "ipython3",
   "version": "3.6.5"
  }
 },
 "nbformat": 4,
 "nbformat_minor": 2
}
